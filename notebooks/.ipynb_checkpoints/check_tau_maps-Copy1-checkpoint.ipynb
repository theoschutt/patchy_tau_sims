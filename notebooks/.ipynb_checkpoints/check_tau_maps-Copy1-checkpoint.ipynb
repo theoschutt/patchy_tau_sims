{
 "cells": [
  {
   "cell_type": "code",
   "execution_count": 1,
   "metadata": {},
   "outputs": [
    {
     "ename": "ModuleNotFoundError",
     "evalue": "No module named 'cmb'",
     "output_type": "error",
     "traceback": [
      "\u001b[0;31m---------------------------------------------------------------------------\u001b[0m",
      "\u001b[0;31mModuleNotFoundError\u001b[0m                       Traceback (most recent call last)",
      "Cell \u001b[0;32mIn[1], line 10\u001b[0m\n\u001b[1;32m      7\u001b[0m \u001b[38;5;28;01mimport\u001b[39;00m \u001b[38;5;21;01msys\u001b[39;00m\n\u001b[1;32m      8\u001b[0m sys\u001b[38;5;241m.\u001b[39mpath\u001b[38;5;241m.\u001b[39mappend(\u001b[38;5;124m'\u001b[39m\u001b[38;5;124m../ThumbStack\u001b[39m\u001b[38;5;124m'\u001b[39m)\n\u001b[0;32m---> 10\u001b[0m \u001b[38;5;28;01mfrom\u001b[39;00m \u001b[38;5;21;01mcmb\u001b[39;00m \u001b[38;5;28;01mimport\u001b[39;00m StageIVCMB\n\u001b[1;32m     12\u001b[0m \u001b[38;5;28;01mimport\u001b[39;00m \u001b[38;5;21;01mflat_map\u001b[39;00m\n\u001b[1;32m     13\u001b[0m \u001b[38;5;28;01mfrom\u001b[39;00m \u001b[38;5;21;01mflat_map\u001b[39;00m \u001b[38;5;28;01mimport\u001b[39;00m \u001b[38;5;241m*\u001b[39m\n",
      "\u001b[0;31mModuleNotFoundError\u001b[0m: No module named 'cmb'"
     ]
    }
   ],
   "source": [
    "import fitsio\n",
    "import numpy as np\n",
    "import matplotlib.pyplot as plt\n",
    "%matplotlib inline\n",
    "import pixell\n",
    "\n",
    "import sys\n",
    "sys.path.append('../ThumbStack')\n",
    "\n",
    "# from cmb import StageIVCMB\n",
    "\n",
    "import flat_map\n",
    "from flat_map import *\n",
    "\n",
    "import catalog\n",
    "from catalog import *\n",
    "\n",
    "import universe\n",
    "from universe import *\n",
    "\n",
    "import mass_conversion\n",
    "from mass_conversion import *"
   ]
  },
  {
   "cell_type": "code",
   "execution_count": null,
   "metadata": {},
   "outputs": [],
   "source": [
    "import matplotlib as mpl\n",
    "# set some plotting defaults\n",
    "mpl.rc(('lines', 'axes') , linewidth=2)\n",
    "mpl.rc(('xtick', 'ytick'), labelsize=15)\n",
    "mpl.rc(('xtick.major', 'ytick.major'), width=2)\n",
    "mpl.rcParams['axes.labelsize'] = 18\n",
    "mpl.rcParams['font.family'] = 'serif'\n",
    "# mpl.rcParams['font.serif'] = ['cm'] + mpl.rcParams['font.serif']\n",
    "# mpl.rcParams[\"font.family\"] = \"Times New Roman\" \n",
    "mpl.rcParams['mathtext.fontset'] = 'cm'\n",
    "# mpl.rcParams['font.family'] = 'serif'\n",
    "mpl.rcParams['legend.fontsize'] = 15\n",
    "mpl.rcParams['font.size'] = 18\n",
    "mpl.rcParams[\"figure.facecolor\"] = 'white'\n",
    "mpl.rcParams[\"axes.facecolor\"] = 'white'\n",
    "mpl.rcParams[\"savefig.facecolor\"] = 'white'\n",
    "\n",
    "def colorbar(mappable):\n",
    "    from mpl_toolkits.axes_grid1 import make_axes_locatable\n",
    "    import matplotlib.pyplot as plt\n",
    "    last_axes = plt.gca()\n",
    "    ax = mappable.axes\n",
    "    fig = ax.figure\n",
    "    divider = make_axes_locatable(ax)\n",
    "    cax = divider.append_axes(\"right\", size=\"5%\", pad=0.05)\n",
    "    cbar = fig.colorbar(mappable, cax=cax)\n",
    "    plt.sca(last_axes)\n",
    "    return cbar"
   ]
  },
  {
   "cell_type": "code",
   "execution_count": null,
   "metadata": {},
   "outputs": [],
   "source": [
    "cmass = fitsio.read('output/catalog/cmass_m_10kgal_sig5/mock_count_dirac_car.fits')\n",
    "rand = fitsio.read('output/catalog/cmass_m_10kgal_sig5_randradec/mock_count_dirac_car.fits')\n",
    "fig, axs = plt.subplots(1,2, figsize=(15,7))\n",
    "im0 = axs[0].imshow(cmass, cmap='Greys', origin='lower', vmin=0, vmax=0.5)\n",
    "im1 = axs[1].imshow(rand, cmap='Greys', origin='lower', vmin=0, vmax=0.5)\n",
    "# axs.set_xticks([])\n",
    "# axs.set_yticks([])\n",
    "cbar0 = colorbar(im0)\n",
    "cbar1 = colorbar(im1)\n",
    "print(np.max(cmass), np.max(rand), np.sum(cmass), np.sum(rand))"
   ]
  },
  {
   "cell_type": "code",
   "execution_count": null,
   "metadata": {},
   "outputs": [],
   "source": [
    "cmass_gauss = fitsio.read('output/catalog/cmass_m_10kgal_sig5/mock_count_gauss_car.fits')\n",
    "rand_gauss = fitsio.read('output/catalog/cmass_m_10kgal_sig5_randradec/mock_count_gauss_car.fits')\n",
    "fig, axs = plt.subplots(1,2, figsize=(15,7))\n",
    "im0 = axs[0].imshow(cmass_gauss, cmap='Greys', origin='lower', vmin=0)\n",
    "im1 = axs[1].imshow(rand_gauss, cmap='Greys', origin='lower', vmin=0)\n",
    "# axs.set_xticks([])\n",
    "# axs.set_yticks([])\n",
    "cbar0 = colorbar(im0)\n",
    "cbar1 = colorbar(im1)\n",
    "print(np.max(cmass_gauss), np.max(rand_gauss), np.sum(cmass_gauss), np.sum(rand_gauss))"
   ]
  },
  {
   "cell_type": "code",
   "execution_count": null,
   "metadata": {},
   "outputs": [],
   "source": [
    "cmass_cut = np.where(cmass/4. > 1., np.round(cmass/4), 0.)\n",
    "rand_cut = np.where(rand/4. > 1., np.round(rand/4), 0.)\n",
    "print(np.max(cmass_cut), np.max(rand_cut), np.sum(cmass_cut), np.sum(rand_cut))"
   ]
  },
  {
   "cell_type": "code",
   "execution_count": null,
   "metadata": {},
   "outputs": [],
   "source": [
    "# map dimensions in degrees\n",
    "sizeX = 11.4\n",
    "sizeY = 11.4\n",
    "\n",
    "# number of pixels for the flat map, let's do 0.5' pixels\n",
    "nX = int(sizeX*60.*2.)\n",
    "nY = int(sizeY*60.*2.)\n",
    "\n",
    "# basic map object\n",
    "baseMap = FlatMap(nX=nX, nY=nY, sizeX=sizeX*np.pi/180., sizeY=sizeY*np.pi/180.)\n",
    "\n",
    "# multipoles to include in the lensing reconstruction\n",
    "# reminder: l=100 ~ 1 degree\n",
    "lMin = 30.; lMax = 8000.\n",
    "\n",
    "# ell bins for power spectra\n",
    "nBins = 21  # number of bins\n",
    "lRange = (1., 2.*lMax)  # range for power spectra\n",
    "\n",
    "# order: [[ra_min, dec_max], [ra_max, dec_min]]\n",
    "box = np.array([[10., 210.], [20., 200.]]) * utils.degree\n",
    "#box = np.array([[-5., 0.], [0., 5.]]) * utils.degree\n",
    "resArcmin = 0.5 #1. #0.5  # 0.1   # map pixel size [arcmin]\n",
    "shape,wcs = enmap.geometry(pos=box, res=resArcmin * utils.arcmin, proj='car')\n",
    "\n",
    "# create a mask that keeps the whole area\n",
    "boxMask = enmap.ones(shape, wcs=wcs)"
   ]
  },
  {
   "cell_type": "code",
   "execution_count": null,
   "metadata": {},
   "outputs": [],
   "source": [
    "cmb = StageIVCMB(beam=1., noise=1., lMin=lMin, lMaxT=lMax, lMaxP=lMax, atm=False)"
   ]
  },
  {
   "cell_type": "code",
   "execution_count": null,
   "metadata": {},
   "outputs": [],
   "source": [
    "cmassGaussFourier = baseMap.fourier(cmass_gauss)"
   ]
  },
  {
   "cell_type": "code",
   "execution_count": null,
   "metadata": {},
   "outputs": [],
   "source": [
    "randGaussFourier = baseMap.fourier(rand_gauss)"
   ]
  },
  {
   "cell_type": "code",
   "execution_count": null,
   "metadata": {},
   "outputs": [],
   "source": [
    "ell, cl, scl = baseMap.powerSpectrum(cmassGaussFourier, plot=True)"
   ]
  },
  {
   "cell_type": "code",
   "execution_count": null,
   "metadata": {},
   "outputs": [],
   "source": [
    "f = interp1d(ell, cl, kind='linear', bounds_error=False, fill_value=0)"
   ]
  },
  {
   "cell_type": "code",
   "execution_count": null,
   "metadata": {
    "scrolled": true
   },
   "outputs": [],
   "source": [
    "ell, clr, sclr = baseMap.powerSpectrum(randGaussFourier, plot=True, theory=[f])"
   ]
  },
  {
   "cell_type": "code",
   "execution_count": null,
   "metadata": {},
   "outputs": [],
   "source": [
    "cmass_gauss_normed = cmass_gauss/np.max(cmass_gauss)\n",
    "rand_gauss_normed = rand_gauss/np.max(rand_gauss)"
   ]
  },
  {
   "cell_type": "code",
   "execution_count": null,
   "metadata": {},
   "outputs": [],
   "source": [
    "fig, axs = plt.subplots(1,2, figsize=(15,40))\n",
    "im0 = axs[0].imshow(cmass_gauss_normed, cmap='viridis')\n",
    "im1 = axs[1].imshow(rand_gauss_normed, cmap='viridis')\n",
    "cbar0 = colorbar(im0)\n",
    "cbar1 = colorbar(im1)"
   ]
  },
  {
   "cell_type": "code",
   "execution_count": null,
   "metadata": {},
   "outputs": [],
   "source": [
    "# fitsio.write('output/catalog/cmass_m_10x10_v2/cmass_m_10x10_v2_mock_count_gauss_car_normed.fits', cmass_gauss_normed)\n",
    "# fitsio.write('output/catalog/cmass_m_10x10_randradec_v2/cmass_m_10x10_randradec_v2_mock_count_gauss_car_normed.fits', rand_gauss_normed)"
   ]
  },
  {
   "cell_type": "code",
   "execution_count": null,
   "metadata": {},
   "outputs": [],
   "source": [
    "cmassGaussFourier_n = baseMap.fourier(cmass_gauss_normed)"
   ]
  },
  {
   "cell_type": "code",
   "execution_count": null,
   "metadata": {},
   "outputs": [],
   "source": [
    "randGaussFourier_n = baseMap.fourier(rand_gauss_normed)"
   ]
  },
  {
   "cell_type": "code",
   "execution_count": null,
   "metadata": {},
   "outputs": [],
   "source": [
    "ell, cl, scl = baseMap.powerSpectrum(cmassGaussFourier_n, plot=True)"
   ]
  },
  {
   "cell_type": "code",
   "execution_count": null,
   "metadata": {},
   "outputs": [],
   "source": [
    "f = interp1d(ell, cl, kind='linear', bounds_error=False, fill_value=0)"
   ]
  },
  {
   "cell_type": "code",
   "execution_count": null,
   "metadata": {
    "scrolled": true
   },
   "outputs": [],
   "source": [
    "ell, clr, sclr = baseMap.powerSpectrum(randGaussFourier_n, plot=True, theory=[f])"
   ]
  },
  {
   "cell_type": "markdown",
   "metadata": {},
   "source": [
    "## Checking correct RA/DEC orientation"
   ]
  },
  {
   "cell_type": "markdown",
   "metadata": {},
   "source": [
    "### 3/22/2023: Found bug: was using transpose of tau field to make CMB+tau maps RIP!!!\n",
    "### BUG REDACTED. EVERYTHING'S FINE.\n",
    "#### Now checking manually that positions match between created maps and catalog RA/DEC values"
   ]
  },
  {
   "cell_type": "code",
   "execution_count": null,
   "metadata": {
    "scrolled": false
   },
   "outputs": [],
   "source": [
    "rand_dir = '/home/theo/Documents/research/CMB/tau_sims/output/catalog/cmass_m_10x10_randradec_v2'\n",
    "diracpath = os.path.join(rand_dir, 'cmass_m_10x10_randradec_v2mock_count_dirac_car.fits')\n",
    "gausspath = os.path.join(rand_dir, 'cmass_m_10x10_randradec_v2mock_count_gauss_car.fits')\n",
    "diracMap = baseMap.copy()\n",
    "gaussMap = baseMap.copy()\n",
    "dData = fitsio.read(diracpath)\n",
    "gData = fitsio.read(gausspath)\n",
    "diracMap.data = dData\n",
    "gaussMap.data = gData\n",
    "diracEnmap = enmap.enmap(diracMap.data, wcs)\n",
    "gaussEnmap = enmap.enmap(gaussMap.data, wcs)\n",
    "pixell.enplot.pshow(diracEnmap)\n",
    "pixell.enplot.pshow(gaussEnmap)"
   ]
  },
  {
   "cell_type": "markdown",
   "metadata": {},
   "source": [
    "#### looks like pixell does the customary ra[ra>180] -= 360."
   ]
  },
  {
   "cell_type": "code",
   "execution_count": null,
   "metadata": {},
   "outputs": [],
   "source": [
    "## Compare to RA/DEC positions from the catalog itself\n",
    "nProc = 1\n",
    "u = Universe()\n",
    "massConversion = MassConversionKravtsov14()\n",
    "cmass_10x10_rand = Catalog(u, massConversion, name=\"cmass_m_10x10_randradec_v2\")\n",
    "fig, ax = plt.subplots(1,1, figsize=(20,20))\n",
    "plt.scatter(cmass_10x10_rand.RA, cmass_10x10_rand.DEC, s=15)\n",
    "plt.gca().invert_xaxis()"
   ]
  },
  {
   "cell_type": "markdown",
   "metadata": {},
   "source": [
    "Matches up now yay!"
   ]
  },
  {
   "cell_type": "code",
   "execution_count": null,
   "metadata": {},
   "outputs": [],
   "source": [
    "dirac = fitsio.read('output/catalog/cmass_m_10kgal_sig5/mock_count_dirac_car.fits')\n",
    "cmass = fitsio.read('output/catalog/cmass_m_10kgal_sig5/mock_count_gauss_car.fits')\n",
    "nx, ny = cmass.shape\n",
    "rng = np.random.default_rng(42)\n",
    "x, y = rng.choice(range(nx), 10000), rng.choice(range(ny), 10000)\n",
    "norm = 2.*np.pi*(5./np.sqrt(8.*np.log(2.)))**2 * 0.25 * (180.*60./np.pi)**2\n",
    "ncmass = norm * cmass\n",
    "newmap = np.zeros_like(cmass)\n",
    "for xi,yi in zip(x,y):\n",
    "    newmap[xi,yi] += 4. # integrates to 1 / arcmin^2\n",
    "print(np.sum(newmap), np.max(newmap), np.sum(cmass), np.sum(ncmass), np.sum(rand), np.max(cmass))\n",
    "\n",
    "fig, axs = plt.subplots(1,2, figsize=(15,7))\n",
    "im0 = axs[0].imshow(cmass, cmap='Greys', origin='lower', vmin=0, vmax=2.)\n",
    "im1 = axs[1].imshow(newmap, cmap='Greys', origin='lower', vmin=0, vmax=0.1)\n",
    "# axs.set_xticks([])\n",
    "# axs.set_yticks([])\n",
    "cbar0 = colorbar(im0)\n",
    "cbar1 = colorbar(im1)\n"
   ]
  },
  {
   "cell_type": "code",
   "execution_count": null,
   "metadata": {},
   "outputs": [],
   "source": [
    "plt.hist(dirac.flatten())"
   ]
  },
  {
   "cell_type": "code",
   "execution_count": null,
   "metadata": {},
   "outputs": [],
   "source": [
    "fm = baseMap.copy()\n",
    "fm.data = newmap\n",
    "fm.dataFourier = fm.fourier(newmap)"
   ]
  },
  {
   "cell_type": "code",
   "execution_count": null,
   "metadata": {
    "scrolled": true
   },
   "outputs": [],
   "source": [
    "fm.powerSpectrum(plot=True)"
   ]
  },
  {
   "cell_type": "code",
   "execution_count": null,
   "metadata": {},
   "outputs": [],
   "source": [
    "from functools import partial\n",
    "\n",
    "def fbeam(ell, real_fwhm):\n",
    "    real_sigma = real_fwhm / np.sqrt(8.*np.log(2.))\n",
    "    return np.exp(-0.5*(ell * real_sigma)**2)\n",
    "\n",
    "def apply_beam(flatmap, fwhm=1.6):\n",
    "    print('Applying beam with FWHM=%s arcmin.'%str(fwhm))\n",
    "    # convert fwhm from arcmin to radians\n",
    "    fwhm_rad = fwhm * np.pi / 180. / 60.\n",
    "    # v1\n",
    "    beamfn = partial(fbeam, real_fwhm=fwhm_rad)\n",
    "    flatmap.dataFourier = flatmap.filterFourierIsotropic(fW=beamfn)\n",
    "    # v2\n",
    "    # flatmap.dataFourier *= fbeam(flatmap.l, fwhm_rad)\n",
    "    flatmap.data = flatmap.inverseFourier()\n",
    "    flatmap.name += '_beam%s'%str(fwhm)\n",
    "    \n",
    "    return flatmap"
   ]
  },
  {
   "cell_type": "code",
   "execution_count": null,
   "metadata": {},
   "outputs": [],
   "source": [
    "fm1 = apply_beam(fm, fwhm=5.)"
   ]
  },
  {
   "cell_type": "code",
   "execution_count": null,
   "metadata": {},
   "outputs": [],
   "source": [
    "im = plt.imshow(fm1.data)\n",
    "cbar = colorbar(im)"
   ]
  },
  {
   "cell_type": "code",
   "execution_count": null,
   "metadata": {
    "scrolled": true
   },
   "outputs": [],
   "source": [
    "fm1.powerSpectrum(plot=True)"
   ]
  },
  {
   "cell_type": "code",
   "execution_count": null,
   "metadata": {},
   "outputs": [],
   "source": [
    "d = fm1.data.copy()"
   ]
  },
  {
   "cell_type": "code",
   "execution_count": null,
   "metadata": {},
   "outputs": [],
   "source": [
    "print(np.sum(d), np.max(d), 2 / (np.max(d) * norm))"
   ]
  },
  {
   "cell_type": "code",
   "execution_count": null,
   "metadata": {},
   "outputs": [],
   "source": [
    "fwhm = 5.0\n",
    "sigma = fwhm / np.sqrt(8*np.log(2))\n",
    "fwhm_rad = fwhm * np.pi / 180. / 60. \n",
    "sigma_rad = fwhm_rad / np.sqrt(8.*np.log(2.))\n",
    "print(sigma, 1/sigma)\n",
    "norm = 4. * 2*np.pi * sigma**2\n",
    "print(np.max(d), np.max(d)*norm)"
   ]
  },
  {
   "cell_type": "code",
   "execution_count": null,
   "metadata": {},
   "outputs": [],
   "source": [
    "tau_norm = 2.56e-4\n",
    "d = fm1.data.copy() * norm\n",
    "corner = (184, 172)\n",
    "slicestart = corner[1] + 8\n",
    "bside = 20\n",
    "vmax = 2.\n",
    "fig, axs = plt.subplots(1, 3, figsize=(30,10))\n",
    "stamp = d[corner[1]:corner[1]+bside,corner[0]:corner[0]+bside]\n",
    "# hslice = d[slicestart:slicestart+1,corner[0]:corner[0]+bside]\n",
    "# print(hslice)\n",
    "# hslice[:, :] = np.array(range(bside)) / bside\n",
    "# print(hslice)\n",
    "print(np.min(stamp), np.max(stamp))\n",
    "im = axs[0].imshow(stamp, vmin=np.max(stamp)/2, origin='lower')\n",
    "c = colorbar(im)\n",
    "im1 = axs[1].imshow(newmap[corner[1]:corner[1]+bside,corner[0]:corner[0]+bside],\n",
    "                    cmap='Greys', origin='lower', vmin=0, vmax=1)\n",
    "c = colorbar(im1)\n",
    "im2 = axs[2].imshow(d, origin='lower')\n",
    "c = colorbar(im2)"
   ]
  },
  {
   "cell_type": "code",
   "execution_count": null,
   "metadata": {},
   "outputs": [],
   "source": [
    "unnorm_gauss = fm1.copy()\n",
    "unnorm_gauss.data = d\n",
    "unnorm_gauss.dataFourier = unnorm_gauss.fourier(d)\n",
    "unnorm_gauss.name = '10kgal_gauss_peak1'"
   ]
  },
  {
   "cell_type": "code",
   "execution_count": null,
   "metadata": {},
   "outputs": [],
   "source": [
    "# check 5 arcmin profile\n",
    "cmb = StageIVCMB(beam=5., noise=1., lMin=lMin, lMaxT=lMax, lMaxP=lMax, atm=False)\n",
    "f = lambda l: cmb.funlensedTT(l) * cmb.fbeam(l)**2\n",
    "unnorm_gauss.powerSpectrum(plot=True, theory=[f])"
   ]
  },
  {
   "cell_type": "code",
   "execution_count": null,
   "metadata": {},
   "outputs": [],
   "source": [
    "def save_flatmap(flatmap, path=None, save_diagnostics=True):\n",
    "    if save_diagnostics:\n",
    "        ell_max = np.max(flatmap.l.flatten())\n",
    "        ps_path = os.path.join(path, '%s_powspec.png'%flatmap.name)\n",
    "        print('Saving power spectrum plot:', ps_path)\n",
    "        flatmap.powerSpectrum(nBins=int(ell_max/200), lRange=[1., ell_max],\n",
    "            plot=True, save=True, path=ps_path)\n",
    "        map_path = os.path.join(path, '%s_map.png'%flatmap.name)\n",
    "        print('Saving map image:', map_path)\n",
    "        flatmap.plot(save=True, title=flatmap.name, path=map_path)\n",
    "    fm_path = os.path.join(path, '%s_flatmap.fits'%flatmap.name)\n",
    "    print('Saving flatmap:', fm_path)\n",
    "    flatmap.write(fm_path)"
   ]
  },
  {
   "cell_type": "code",
   "execution_count": null,
   "metadata": {},
   "outputs": [],
   "source": [
    "save_flatmap(unnorm_gauss, 'output/tau_maps/10kgal_fwhm5_randradec/10kgal_gauss_peak1')"
   ]
  },
  {
   "cell_type": "code",
   "execution_count": null,
   "metadata": {},
   "outputs": [],
   "source": []
  }
 ],
 "metadata": {
  "kernelspec": {
   "display_name": "tau_py3.8",
   "language": "python",
   "name": "tau_py3.8"
  },
  "language_info": {
   "codemirror_mode": {
    "name": "ipython",
    "version": 3
   },
   "file_extension": ".py",
   "mimetype": "text/x-python",
   "name": "python",
   "nbconvert_exporter": "python",
   "pygments_lexer": "ipython3",
   "version": "3.8.16"
  }
 },
 "nbformat": 4,
 "nbformat_minor": 4
}
